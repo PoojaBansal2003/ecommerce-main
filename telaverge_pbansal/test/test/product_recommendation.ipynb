{
  "metadata": {
    "kernelspec": {
      "name": "python",
      "display_name": "Python (Pyodide)",
      "language": "python"
    },
    "language_info": {
      "codemirror_mode": {
        "name": "python",
        "version": 3
      },
      "file_extension": ".py",
      "mimetype": "text/x-python",
      "name": "python",
      "nbconvert_exporter": "python",
      "pygments_lexer": "ipython3",
      "version": "3.8"
    }
  },
  "nbformat_minor": 4,
  "nbformat": 4,
  "cells": [
    {
      "cell_type": "code",
      "source": "import pandas as pd\nimport numpy as np\nimport nltk",
      "metadata": {
        "trusted": true
      },
      "outputs": [],
      "execution_count": 23
    },
    {
      "cell_type": "code",
      "source": "data = pd.read_csv('products.csv', error_bad_lines=False, warn_bad_lines=True)\n",
      "metadata": {
        "trusted": true,
        "scrolled": true
      },
      "outputs": [
        {
          "name": "stderr",
          "text": "<ipython-input-6-c2ec9e6fb549>:1: FutureWarning: The error_bad_lines argument has been deprecated and will be removed in a future version. Use on_bad_lines in the future.\n\n\n  data = pd.read_csv('products.csv', error_bad_lines=False, warn_bad_lines=True)\n<ipython-input-6-c2ec9e6fb549>:1: FutureWarning: The warn_bad_lines argument has been deprecated and will be removed in a future version. Use on_bad_lines in the future.\n\n\n  data = pd.read_csv('products.csv', error_bad_lines=False, warn_bad_lines=True)\n",
          "output_type": "stream"
        }
      ],
      "execution_count": 6
    },
    {
      "cell_type": "code",
      "source": "data.head(2)",
      "metadata": {
        "trusted": true
      },
      "outputs": [
        {
          "execution_count": 7,
          "output_type": "execute_result",
          "data": {
            "text/plain": "                                  name  \\\n0  Alisha Solid Women's Cycling Shorts   \n1  FabHomeDecor Fabric Double Sofa Bed   \n\n                                            category    price  \\\n0                       [\"clothing,\"women clothing\"]    999.0   \n1  [\"Furniture >> Living Room Furniture >> Sofa B...  32157.0   \n\n                                               image  Unnamed: 4  \\\n0  [\"http://img5a.flixcart.com/image/short/u/4/a/...         NaN   \n1  [\"http://img6a.flixcart.com/image/sofa-bed/j/f...         NaN   \n\n                                         description  Unnamed: 6  Unnamed: 7  \\\n0  Key Features of Alisha Solid Women's Cycling S...         NaN         NaN   \n1  FabHomeDecor Fabric Double Sofa Bed (Finish Co...         NaN         NaN   \n\n          brand  \n0        Alisha  \n1  FabHomeDecor  ",
            "text/html": "<div>\n<style scoped>\n    .dataframe tbody tr th:only-of-type {\n        vertical-align: middle;\n    }\n\n    .dataframe tbody tr th {\n        vertical-align: top;\n    }\n\n    .dataframe thead th {\n        text-align: right;\n    }\n</style>\n<table border=\"1\" class=\"dataframe\">\n  <thead>\n    <tr style=\"text-align: right;\">\n      <th></th>\n      <th>name</th>\n      <th>category</th>\n      <th>price</th>\n      <th>image</th>\n      <th>Unnamed: 4</th>\n      <th>description</th>\n      <th>Unnamed: 6</th>\n      <th>Unnamed: 7</th>\n      <th>brand</th>\n    </tr>\n  </thead>\n  <tbody>\n    <tr>\n      <th>0</th>\n      <td>Alisha Solid Women's Cycling Shorts</td>\n      <td>[\"clothing,\"women clothing\"]</td>\n      <td>999.0</td>\n      <td>[\"http://img5a.flixcart.com/image/short/u/4/a/...</td>\n      <td>NaN</td>\n      <td>Key Features of Alisha Solid Women's Cycling S...</td>\n      <td>NaN</td>\n      <td>NaN</td>\n      <td>Alisha</td>\n    </tr>\n    <tr>\n      <th>1</th>\n      <td>FabHomeDecor Fabric Double Sofa Bed</td>\n      <td>[\"Furniture &gt;&gt; Living Room Furniture &gt;&gt; Sofa B...</td>\n      <td>32157.0</td>\n      <td>[\"http://img6a.flixcart.com/image/sofa-bed/j/f...</td>\n      <td>NaN</td>\n      <td>FabHomeDecor Fabric Double Sofa Bed (Finish Co...</td>\n      <td>NaN</td>\n      <td>NaN</td>\n      <td>FabHomeDecor</td>\n    </tr>\n  </tbody>\n</table>\n</div>"
          },
          "metadata": {}
        }
      ],
      "execution_count": 7
    },
    {
      "cell_type": "code",
      "source": "columns_to_drop = ['Unnamed: 4', 'Unnamed: 6', 'Unnamed: 7']\ndata_cleaned = data.drop(columns=columns_to_drop)\ndata_cleaned.head(2)",
      "metadata": {
        "trusted": true
      },
      "outputs": [
        {
          "execution_count": 9,
          "output_type": "execute_result",
          "data": {
            "text/plain": "                                  name  \\\n0  Alisha Solid Women's Cycling Shorts   \n1  FabHomeDecor Fabric Double Sofa Bed   \n\n                                            category    price  \\\n0                       [\"clothing,\"women clothing\"]    999.0   \n1  [\"Furniture >> Living Room Furniture >> Sofa B...  32157.0   \n\n                                               image  \\\n0  [\"http://img5a.flixcart.com/image/short/u/4/a/...   \n1  [\"http://img6a.flixcart.com/image/sofa-bed/j/f...   \n\n                                         description         brand  \n0  Key Features of Alisha Solid Women's Cycling S...        Alisha  \n1  FabHomeDecor Fabric Double Sofa Bed (Finish Co...  FabHomeDecor  ",
            "text/html": "<div>\n<style scoped>\n    .dataframe tbody tr th:only-of-type {\n        vertical-align: middle;\n    }\n\n    .dataframe tbody tr th {\n        vertical-align: top;\n    }\n\n    .dataframe thead th {\n        text-align: right;\n    }\n</style>\n<table border=\"1\" class=\"dataframe\">\n  <thead>\n    <tr style=\"text-align: right;\">\n      <th></th>\n      <th>name</th>\n      <th>category</th>\n      <th>price</th>\n      <th>image</th>\n      <th>description</th>\n      <th>brand</th>\n    </tr>\n  </thead>\n  <tbody>\n    <tr>\n      <th>0</th>\n      <td>Alisha Solid Women's Cycling Shorts</td>\n      <td>[\"clothing,\"women clothing\"]</td>\n      <td>999.0</td>\n      <td>[\"http://img5a.flixcart.com/image/short/u/4/a/...</td>\n      <td>Key Features of Alisha Solid Women's Cycling S...</td>\n      <td>Alisha</td>\n    </tr>\n    <tr>\n      <th>1</th>\n      <td>FabHomeDecor Fabric Double Sofa Bed</td>\n      <td>[\"Furniture &gt;&gt; Living Room Furniture &gt;&gt; Sofa B...</td>\n      <td>32157.0</td>\n      <td>[\"http://img6a.flixcart.com/image/sofa-bed/j/f...</td>\n      <td>FabHomeDecor Fabric Double Sofa Bed (Finish Co...</td>\n      <td>FabHomeDecor</td>\n    </tr>\n  </tbody>\n</table>\n</div>"
          },
          "metadata": {}
        }
      ],
      "execution_count": 9
    },
    {
      "cell_type": "code",
      "source": "data_cleaned.isnull().sum()",
      "metadata": {
        "trusted": true
      },
      "outputs": [
        {
          "execution_count": 10,
          "output_type": "execute_result",
          "data": {
            "text/plain": "name              0\ncategory          0\nprice            78\nimage             3\ndescription       2\nbrand          5864\ndtype: int64"
          },
          "metadata": {}
        }
      ],
      "execution_count": 10
    },
    {
      "cell_type": "code",
      "source": "data_cleaned = data_cleaned.dropna()\ndata_cleaned.head(2)",
      "metadata": {
        "trusted": true
      },
      "outputs": [
        {
          "execution_count": 11,
          "output_type": "execute_result",
          "data": {
            "text/plain": "                                  name  \\\n0  Alisha Solid Women's Cycling Shorts   \n1  FabHomeDecor Fabric Double Sofa Bed   \n\n                                            category    price  \\\n0                       [\"clothing,\"women clothing\"]    999.0   \n1  [\"Furniture >> Living Room Furniture >> Sofa B...  32157.0   \n\n                                               image  \\\n0  [\"http://img5a.flixcart.com/image/short/u/4/a/...   \n1  [\"http://img6a.flixcart.com/image/sofa-bed/j/f...   \n\n                                         description         brand  \n0  Key Features of Alisha Solid Women's Cycling S...        Alisha  \n1  FabHomeDecor Fabric Double Sofa Bed (Finish Co...  FabHomeDecor  ",
            "text/html": "<div>\n<style scoped>\n    .dataframe tbody tr th:only-of-type {\n        vertical-align: middle;\n    }\n\n    .dataframe tbody tr th {\n        vertical-align: top;\n    }\n\n    .dataframe thead th {\n        text-align: right;\n    }\n</style>\n<table border=\"1\" class=\"dataframe\">\n  <thead>\n    <tr style=\"text-align: right;\">\n      <th></th>\n      <th>name</th>\n      <th>category</th>\n      <th>price</th>\n      <th>image</th>\n      <th>description</th>\n      <th>brand</th>\n    </tr>\n  </thead>\n  <tbody>\n    <tr>\n      <th>0</th>\n      <td>Alisha Solid Women's Cycling Shorts</td>\n      <td>[\"clothing,\"women clothing\"]</td>\n      <td>999.0</td>\n      <td>[\"http://img5a.flixcart.com/image/short/u/4/a/...</td>\n      <td>Key Features of Alisha Solid Women's Cycling S...</td>\n      <td>Alisha</td>\n    </tr>\n    <tr>\n      <th>1</th>\n      <td>FabHomeDecor Fabric Double Sofa Bed</td>\n      <td>[\"Furniture &gt;&gt; Living Room Furniture &gt;&gt; Sofa B...</td>\n      <td>32157.0</td>\n      <td>[\"http://img6a.flixcart.com/image/sofa-bed/j/f...</td>\n      <td>FabHomeDecor Fabric Double Sofa Bed (Finish Co...</td>\n      <td>FabHomeDecor</td>\n    </tr>\n  </tbody>\n</table>\n</div>"
          },
          "metadata": {}
        }
      ],
      "execution_count": 11
    },
    {
      "cell_type": "code",
      "source": "data_cleaned.isnull().sum()",
      "metadata": {
        "trusted": true
      },
      "outputs": [
        {
          "execution_count": 12,
          "output_type": "execute_result",
          "data": {
            "text/plain": "name           0\ncategory       0\nprice          0\nimage          0\ndescription    0\nbrand          0\ndtype: int64"
          },
          "metadata": {}
        }
      ],
      "execution_count": 12
    },
    {
      "cell_type": "code",
      "source": "from nltk.stem.snowball import SnowballStemmer\nstemmer = SnowballStemmer('english')\ndef tokenize_stem(text):\n    tokens = nltk.word_tokenize(text.lower())\n    stemmed = [stemmer.stem(w) for w in tokens ]\n    return \" \".join(stemmed)\n    \n    ",
      "metadata": {
        "trusted": true
      },
      "outputs": [],
      "execution_count": 17
    },
    {
      "cell_type": "code",
      "source": "import re\n\n",
      "metadata": {
        "trusted": true
      },
      "outputs": [],
      "execution_count": 33
    },
    {
      "cell_type": "code",
      "source": "# data_cleaned['stemmed_tokens'] = data_cleaned.apply(lambda row:tokenize_stem(row['name'] + \" \" + row['description']), axis=1)\n\n\n\nimport re\n\ndef tokenize_stem(text):\n\n    pattern = r'\\W+'  \n    tokens = re.split(pattern, text.lower()) \n   \n    return \" \".join(tokens)\n\ndata_cleaned['stemmed_tokens'] = data_cleaned.apply(lambda row: tokenize_stem(row['name'] + \" \" + row['description']), axis=1)\n",
      "metadata": {
        "trusted": true
      },
      "outputs": [],
      "execution_count": 34
    },
    {
      "cell_type": "code",
      "source": "data_cleaned.head()\n",
      "metadata": {
        "trusted": true
      },
      "outputs": [
        {
          "execution_count": 36,
          "output_type": "execute_result",
          "data": {
            "text/plain": "                                    name  \\\n0    Alisha Solid Women's Cycling Shorts   \n1    FabHomeDecor Fabric Double Sofa Bed   \n2                             AW Bellies   \n3    Alisha Solid Women's Cycling Shorts   \n4  Sicons All Purpose Arnica Dog Shampoo   \n\n                                            category    price  \\\n0                       [\"clothing,\"women clothing\"]    999.0   \n1  [\"Furniture >> Living Room Furniture >> Sofa B...  32157.0   \n2  [\"Footwear >> Women's Footwear >> Ballerinas >...    999.0   \n3  [\"Clothing >> Women's Clothing >> Lingerie, Sl...    699.0   \n4  [\"Pet Supplies >> Grooming >> Skin & Coat Care...    220.0   \n\n                                               image  \\\n0  [\"http://img5a.flixcart.com/image/short/u/4/a/...   \n1  [\"http://img6a.flixcart.com/image/sofa-bed/j/f...   \n2  [\"http://img5a.flixcart.com/image/shoe/7/z/z/r...   \n3  [\"http://img5a.flixcart.com/image/short/6/2/h/...   \n4  [\"http://img5a.flixcart.com/image/pet-shampoo/...   \n\n                                         description         brand  \\\n0  Key Features of Alisha Solid Women's Cycling S...        Alisha   \n1  FabHomeDecor Fabric Double Sofa Bed (Finish Co...  FabHomeDecor   \n2  Key Features of AW Bellies Sandals Wedges Heel...            AW   \n3  Key Features of Alisha Solid Women's Cycling S...        Alisha   \n4  Specifications of Sicons All Purpose Arnica Do...        Sicons   \n\n                                      stemmed_tokens  \n0  alisha solid women s cycling shorts key featur...  \n1  fabhomedecor fabric double sofa bed fabhomedec...  \n2  aw bellies key features of aw bellies sandals ...  \n3  alisha solid women s cycling shorts key featur...  \n4  sicons all purpose arnica dog shampoo specific...  ",
            "text/html": "<div>\n<style scoped>\n    .dataframe tbody tr th:only-of-type {\n        vertical-align: middle;\n    }\n\n    .dataframe tbody tr th {\n        vertical-align: top;\n    }\n\n    .dataframe thead th {\n        text-align: right;\n    }\n</style>\n<table border=\"1\" class=\"dataframe\">\n  <thead>\n    <tr style=\"text-align: right;\">\n      <th></th>\n      <th>name</th>\n      <th>category</th>\n      <th>price</th>\n      <th>image</th>\n      <th>description</th>\n      <th>brand</th>\n      <th>stemmed_tokens</th>\n    </tr>\n  </thead>\n  <tbody>\n    <tr>\n      <th>0</th>\n      <td>Alisha Solid Women's Cycling Shorts</td>\n      <td>[\"clothing,\"women clothing\"]</td>\n      <td>999.0</td>\n      <td>[\"http://img5a.flixcart.com/image/short/u/4/a/...</td>\n      <td>Key Features of Alisha Solid Women's Cycling S...</td>\n      <td>Alisha</td>\n      <td>alisha solid women s cycling shorts key featur...</td>\n    </tr>\n    <tr>\n      <th>1</th>\n      <td>FabHomeDecor Fabric Double Sofa Bed</td>\n      <td>[\"Furniture &gt;&gt; Living Room Furniture &gt;&gt; Sofa B...</td>\n      <td>32157.0</td>\n      <td>[\"http://img6a.flixcart.com/image/sofa-bed/j/f...</td>\n      <td>FabHomeDecor Fabric Double Sofa Bed (Finish Co...</td>\n      <td>FabHomeDecor</td>\n      <td>fabhomedecor fabric double sofa bed fabhomedec...</td>\n    </tr>\n    <tr>\n      <th>2</th>\n      <td>AW Bellies</td>\n      <td>[\"Footwear &gt;&gt; Women's Footwear &gt;&gt; Ballerinas &gt;...</td>\n      <td>999.0</td>\n      <td>[\"http://img5a.flixcart.com/image/shoe/7/z/z/r...</td>\n      <td>Key Features of AW Bellies Sandals Wedges Heel...</td>\n      <td>AW</td>\n      <td>aw bellies key features of aw bellies sandals ...</td>\n    </tr>\n    <tr>\n      <th>3</th>\n      <td>Alisha Solid Women's Cycling Shorts</td>\n      <td>[\"Clothing &gt;&gt; Women's Clothing &gt;&gt; Lingerie, Sl...</td>\n      <td>699.0</td>\n      <td>[\"http://img5a.flixcart.com/image/short/6/2/h/...</td>\n      <td>Key Features of Alisha Solid Women's Cycling S...</td>\n      <td>Alisha</td>\n      <td>alisha solid women s cycling shorts key featur...</td>\n    </tr>\n    <tr>\n      <th>4</th>\n      <td>Sicons All Purpose Arnica Dog Shampoo</td>\n      <td>[\"Pet Supplies &gt;&gt; Grooming &gt;&gt; Skin &amp; Coat Care...</td>\n      <td>220.0</td>\n      <td>[\"http://img5a.flixcart.com/image/pet-shampoo/...</td>\n      <td>Specifications of Sicons All Purpose Arnica Do...</td>\n      <td>Sicons</td>\n      <td>sicons all purpose arnica dog shampoo specific...</td>\n    </tr>\n  </tbody>\n</table>\n</div>"
          },
          "metadata": {}
        }
      ],
      "execution_count": 36
    },
    {
      "cell_type": "code",
      "source": "from sklearn.feature_extraction.text import TfidfVectorizer\nfrom sklearn.metrics.pairwise import cosine_similarity",
      "metadata": {
        "trusted": true
      },
      "outputs": [],
      "execution_count": 41
    },
    {
      "cell_type": "code",
      "source": "tfidfv = TfidfVectorizer(tokenizer = tokenize_stem )\ndef cosine_sim(txt1, txt2):\n    matrix = tfidfv.fit_transform([txt1, txt2])\n    return cosine_similarity(matrix)[0, 1]  ",
      "metadata": {
        "trusted": true
      },
      "outputs": [],
      "execution_count": 54
    },
    {
      "cell_type": "code",
      "source": "def search_product(query):\n    stemmed_query = tokenize_stem(query)\n    data_cleaned['similarity'] = data_cleaned['stemmed_tokens'].apply(lambda x: cosine_sim(stemmed_query, x))\n    res = data_cleaned.sort_values(by='similarity', ascending=False).head(10)[['name', 'description', 'price', 'category', 'image', 'brand']]\n    return res",
      "metadata": {
        "trusted": true
      },
      "outputs": [],
      "execution_count": 55
    },
    {
      "cell_type": "code",
      "source": "search_product('AW Bellies')",
      "metadata": {
        "trusted": true
      },
      "outputs": [
        {
          "name": "stderr",
          "text": "/lib/python3.11/site-packages/sklearn/feature_extraction/text.py:525: UserWarning: The parameter 'token_pattern' will not be used since 'tokenizer' is not None'\n  warnings.warn(\n",
          "output_type": "stream"
        },
        {
          "execution_count": 59,
          "output_type": "execute_result",
          "data": {
            "text/plain": "                                                    name  \\\n4346   Affinity Jewellers Designer Silver Bead White ...   \n9509   Shashvat Jewels Designer & Elegant Silver Jewe...   \n10417     LATHERO Full Sleeve Self Design Women's Jacket   \n4654                            Ada Jewel Alloy Necklace   \n15556    Allen Solly Self Design Crew Neck Boy's Sweater   \n11097  Classique Designer Jewellery Beautiful Alloy J...   \n10                                        Ladela Bellies   \n13656           Sheetal Jewellery Brass, Alloy Jewel Set   \n18199           Sheetal Jewellery Brass, Alloy Jewel Set   \n14596              SKOOKIE Sleeveless Solid Men's Jacket   \n\n                                             description    price  \\\n4346   Affinity Jewellers Designer Silver Bead White ...   1624.0   \n9509   Shashvat Jewels Designer & Elegant Silver Jewe...   6248.0   \n10417  Specifications of LATHERO Full Sleeve Self Des...  12500.0   \n4654   Ada Jewel Alloy Necklace\\n                    ...   1298.0   \n15556  Specifications of Allen Solly Self Design Crew...   1599.0   \n11097  Classique Designer Jewellery Beautiful Alloy J...   1999.0   \n10     Key Features of Ladela Bellies Brand: LADELA C...   1724.0   \n13656  Sheetal Jewellery Brass, Alloy Jewel Set - Buy...    800.0   \n18199  Sheetal Jewellery Brass, Alloy Jewel Set - Buy...   1200.0   \n14596  Key Features of SKOOKIE Sleeveless Solid Men's...   1599.0   \n\n                                                category  \\\n4346    [\"Jewellery >> Necklaces & Chains >> Necklaces\"]   \n9509                     [\"Jewellery >> Jewellery Sets\"]   \n10417  [\"Clothing >> Women's Clothing >> Western Wear...   \n4654    [\"Jewellery >> Necklaces & Chains >> Necklaces\"]   \n15556  [\"Clothing >> Kids' Clothing >> Boys Wear >> W...   \n11097                    [\"Jewellery >> Jewellery Sets\"]   \n10     [\"Footwear >> Women's Footwear >> Ballerinas >...   \n13656                    [\"Jewellery >> Jewellery Sets\"]   \n18199                    [\"Jewellery >> Jewellery Sets\"]   \n14596  [\"Clothing >> Men's Clothing >> Winter & Seaso...   \n\n                                                   image  \\\n4346   [\"http://img5a.flixcart.com/image/necklace-cha...   \n9509   [\"http://img6a.flixcart.com/image/jewellery-se...   \n10417  [\"http://img6a.flixcart.com/image/jacket/j/h/t...   \n4654   [\"http://img6a.flixcart.com/image/necklace-cha...   \n15556  [\"http://img6a.flixcart.com/image/sweater/q/m/...   \n11097  [\"http://img5a.flixcart.com/image/jewellery-se...   \n10     [\"http://img5a.flixcart.com/image/shoe/s/g/m/b...   \n13656  [\"http://img5a.flixcart.com/image/jewellery-se...   \n18199  [\"http://img6a.flixcart.com/image/jewellery-se...   \n14596  [\"http://img6a.flixcart.com/image/jacket/2/j/a...   \n\n                              brand  \n4346             Affinity Jewellers  \n9509                Shashvat Jewels  \n10417                       LATHERO  \n4654                      Ada Jewel  \n15556                   Allen Solly  \n11097  Classique Designer Jewellery  \n10                           Ladela  \n13656             Sheetal Jewellery  \n18199             Sheetal Jewellery  \n14596                       SKOOKIE  ",
            "text/html": "<div>\n<style scoped>\n    .dataframe tbody tr th:only-of-type {\n        vertical-align: middle;\n    }\n\n    .dataframe tbody tr th {\n        vertical-align: top;\n    }\n\n    .dataframe thead th {\n        text-align: right;\n    }\n</style>\n<table border=\"1\" class=\"dataframe\">\n  <thead>\n    <tr style=\"text-align: right;\">\n      <th></th>\n      <th>name</th>\n      <th>description</th>\n      <th>price</th>\n      <th>category</th>\n      <th>image</th>\n      <th>brand</th>\n    </tr>\n  </thead>\n  <tbody>\n    <tr>\n      <th>4346</th>\n      <td>Affinity Jewellers Designer Silver Bead White ...</td>\n      <td>Affinity Jewellers Designer Silver Bead White ...</td>\n      <td>1624.0</td>\n      <td>[\"Jewellery &gt;&gt; Necklaces &amp; Chains &gt;&gt; Necklaces\"]</td>\n      <td>[\"http://img5a.flixcart.com/image/necklace-cha...</td>\n      <td>Affinity Jewellers</td>\n    </tr>\n    <tr>\n      <th>9509</th>\n      <td>Shashvat Jewels Designer &amp; Elegant Silver Jewe...</td>\n      <td>Shashvat Jewels Designer &amp; Elegant Silver Jewe...</td>\n      <td>6248.0</td>\n      <td>[\"Jewellery &gt;&gt; Jewellery Sets\"]</td>\n      <td>[\"http://img6a.flixcart.com/image/jewellery-se...</td>\n      <td>Shashvat Jewels</td>\n    </tr>\n    <tr>\n      <th>10417</th>\n      <td>LATHERO Full Sleeve Self Design Women's Jacket</td>\n      <td>Specifications of LATHERO Full Sleeve Self Des...</td>\n      <td>12500.0</td>\n      <td>[\"Clothing &gt;&gt; Women's Clothing &gt;&gt; Western Wear...</td>\n      <td>[\"http://img6a.flixcart.com/image/jacket/j/h/t...</td>\n      <td>LATHERO</td>\n    </tr>\n    <tr>\n      <th>4654</th>\n      <td>Ada Jewel Alloy Necklace</td>\n      <td>Ada Jewel Alloy Necklace\\n                    ...</td>\n      <td>1298.0</td>\n      <td>[\"Jewellery &gt;&gt; Necklaces &amp; Chains &gt;&gt; Necklaces\"]</td>\n      <td>[\"http://img6a.flixcart.com/image/necklace-cha...</td>\n      <td>Ada Jewel</td>\n    </tr>\n    <tr>\n      <th>15556</th>\n      <td>Allen Solly Self Design Crew Neck Boy's Sweater</td>\n      <td>Specifications of Allen Solly Self Design Crew...</td>\n      <td>1599.0</td>\n      <td>[\"Clothing &gt;&gt; Kids' Clothing &gt;&gt; Boys Wear &gt;&gt; W...</td>\n      <td>[\"http://img6a.flixcart.com/image/sweater/q/m/...</td>\n      <td>Allen Solly</td>\n    </tr>\n    <tr>\n      <th>11097</th>\n      <td>Classique Designer Jewellery Beautiful Alloy J...</td>\n      <td>Classique Designer Jewellery Beautiful Alloy J...</td>\n      <td>1999.0</td>\n      <td>[\"Jewellery &gt;&gt; Jewellery Sets\"]</td>\n      <td>[\"http://img5a.flixcart.com/image/jewellery-se...</td>\n      <td>Classique Designer Jewellery</td>\n    </tr>\n    <tr>\n      <th>10</th>\n      <td>Ladela Bellies</td>\n      <td>Key Features of Ladela Bellies Brand: LADELA C...</td>\n      <td>1724.0</td>\n      <td>[\"Footwear &gt;&gt; Women's Footwear &gt;&gt; Ballerinas &gt;...</td>\n      <td>[\"http://img5a.flixcart.com/image/shoe/s/g/m/b...</td>\n      <td>Ladela</td>\n    </tr>\n    <tr>\n      <th>13656</th>\n      <td>Sheetal Jewellery Brass, Alloy Jewel Set</td>\n      <td>Sheetal Jewellery Brass, Alloy Jewel Set - Buy...</td>\n      <td>800.0</td>\n      <td>[\"Jewellery &gt;&gt; Jewellery Sets\"]</td>\n      <td>[\"http://img5a.flixcart.com/image/jewellery-se...</td>\n      <td>Sheetal Jewellery</td>\n    </tr>\n    <tr>\n      <th>18199</th>\n      <td>Sheetal Jewellery Brass, Alloy Jewel Set</td>\n      <td>Sheetal Jewellery Brass, Alloy Jewel Set - Buy...</td>\n      <td>1200.0</td>\n      <td>[\"Jewellery &gt;&gt; Jewellery Sets\"]</td>\n      <td>[\"http://img6a.flixcart.com/image/jewellery-se...</td>\n      <td>Sheetal Jewellery</td>\n    </tr>\n    <tr>\n      <th>14596</th>\n      <td>SKOOKIE Sleeveless Solid Men's Jacket</td>\n      <td>Key Features of SKOOKIE Sleeveless Solid Men's...</td>\n      <td>1599.0</td>\n      <td>[\"Clothing &gt;&gt; Men's Clothing &gt;&gt; Winter &amp; Seaso...</td>\n      <td>[\"http://img6a.flixcart.com/image/jacket/2/j/a...</td>\n      <td>SKOOKIE</td>\n    </tr>\n  </tbody>\n</table>\n</div>"
          },
          "metadata": {}
        }
      ],
      "execution_count": 59
    },
    {
      "cell_type": "code",
      "source": "import pandas as pd\nfrom sklearn.feature_extraction.text import TfidfVectorizer\nfrom sklearn.metrics.pairwise import cosine_similarity\nimport re\nimport warnings\n\n# Suppress the specific UserWarning from sklearn\nwarnings.filterwarnings(\"ignore\", category=UserWarning, module='sklearn')\n\n# Define your tokenize_stem function using regular expressions\ndef tokenize_stem(text):\n    if pd.isnull(text):\n        text = \"\"\n    pattern = r'\\W+'  # Match one or more non-word characters\n    tokens = re.split(pattern, text.lower())  # Split text into tokens and convert to lowercase\n    return \" \".join(tokens)\n\n# Initialize TfidfVectorizer with the custom tokenizer\ntfidfv = TfidfVectorizer(tokenizer=tokenize_stem)\n\n# Define the cosine similarity function\ndef cosine_sim(txt1, txt2):\n    matrix = tfidfv.fit_transform([txt1, txt2])\n    return cosine_similarity(matrix)[0, 1]\n\n# Define the search_product function\ndef search_product(query):\n    stemmed_query = tokenize_stem(query)\n    data_cleaned['similarity'] = data_cleaned['stemmed_tokens'].apply(lambda x: cosine_sim(stemmed_query, x))\n    res = data_cleaned.sort_values(by='similarity', ascending=False).head(10)[['name', 'description', 'price', 'category', 'image', 'brand']]\n    return res\n\n# Example call to the function\nprint(search_product('Ladela Bellies'))\n",
      "metadata": {
        "trusted": true
      },
      "outputs": [
        {
          "name": "stdout",
          "text": "                                                    name  \\\n4346   Affinity Jewellers Designer Silver Bead White ...   \n10417     LATHERO Full Sleeve Self Design Women's Jacket   \n17695            INDIRANG Sleeveless Solid Girl's Jacket   \n7222                                  GIA Metal Necklace   \n10                                        Ladela Bellies   \n4463   Affinity Jewellers Designer Gold Hyderabadi Go...   \n5387   Allen Solly Solid Single Breasted Casual Boy's...   \n4338   Affinity Jewellers Designer Meena Bead Red Taa...   \n9509   Shashvat Jewels Designer & Elegant Silver Jewe...   \n5782   Hotpiper White Floral Design Pearl Yellow Gold...   \n\n                                             description    price  \\\n4346   Affinity Jewellers Designer Silver Bead White ...   1624.0   \n10417  Specifications of LATHERO Full Sleeve Self Des...  12500.0   \n17695  Specifications of INDIRANG Sleeveless Solid Gi...    799.0   \n7222   GIA Metal Necklace\\n                         P...    499.0   \n10     Key Features of Ladela Bellies Brand: LADELA C...   1724.0   \n4463   Affinity Jewellers Designer Gold Hyderabadi Go...   1736.0   \n5387   Specifications of Allen Solly Solid Single Bre...   2799.0   \n4338   Affinity Jewellers Designer Meena Bead Red Taa...   1820.0   \n9509   Shashvat Jewels Designer & Elegant Silver Jewe...   6248.0   \n5782   Hotpiper White Floral Design Pearl Yellow Gold...    750.0   \n\n                                                category  \\\n4346    [\"Jewellery >> Necklaces & Chains >> Necklaces\"]   \n10417  [\"Clothing >> Women's Clothing >> Western Wear...   \n17695  [\"Clothing >> Kids' Clothing >> Girls Wear >> ...   \n7222    [\"Jewellery >> Necklaces & Chains >> Necklaces\"]   \n10     [\"Footwear >> Women's Footwear >> Ballerinas >...   \n4463    [\"Jewellery >> Necklaces & Chains >> Necklaces\"]   \n5387   [\"Clothing >> Kids' Clothing >> Boys Wear >> S...   \n4338    [\"Jewellery >> Necklaces & Chains >> Necklaces\"]   \n9509                     [\"Jewellery >> Jewellery Sets\"]   \n5782    [\"Jewellery >> Necklaces & Chains >> Necklaces\"]   \n\n                                                   image               brand  \n4346   [\"http://img5a.flixcart.com/image/necklace-cha...  Affinity Jewellers  \n10417  [\"http://img6a.flixcart.com/image/jacket/j/h/t...             LATHERO  \n17695  [\"http://img6a.flixcart.com/image/jacket/x/p/z...            INDIRANG  \n7222   [\"http://img5a.flixcart.com/image/necklace-cha...                 GIA  \n10     [\"http://img5a.flixcart.com/image/shoe/s/g/m/b...              Ladela  \n4463   [\"http://img5a.flixcart.com/image/necklace-cha...  Affinity Jewellers  \n5387   [\"http://img6a.flixcart.com/image/blazer/u/h/x...         Allen Solly  \n4338   [\"http://img6a.flixcart.com/image/necklace-cha...  Affinity Jewellers  \n9509   [\"http://img6a.flixcart.com/image/jewellery-se...     Shashvat Jewels  \n5782   [\"http://img5a.flixcart.com/image/necklace-cha...            Hotpiper  \n",
          "output_type": "stream"
        }
      ],
      "execution_count": 62
    },
    {
      "cell_type": "code",
      "source": "",
      "metadata": {
        "trusted": true
      },
      "outputs": [],
      "execution_count": null
    }
  ]
}